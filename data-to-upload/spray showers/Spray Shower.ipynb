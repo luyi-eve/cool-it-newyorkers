{
 "cells": [
  {
   "cell_type": "code",
   "execution_count": 3,
   "id": "21011d85",
   "metadata": {},
   "outputs": [],
   "source": [
    "import pandas as pd"
   ]
  },
  {
   "cell_type": "code",
   "execution_count": 4,
   "id": "3ea31488",
   "metadata": {},
   "outputs": [
    {
     "data": {
      "text/plain": [
       "(755, 12)"
      ]
     },
     "execution_count": 4,
     "metadata": {},
     "output_type": "execute_result"
    }
   ],
   "source": [
    "df = pd.read_csv(\"Cool_It__NYC_2020_-_Spray_Showers.csv\")\n",
    "df.shape"
   ]
  },
  {
   "cell_type": "code",
   "execution_count": 5,
   "id": "7bb23624",
   "metadata": {},
   "outputs": [
    {
     "data": {
      "text/plain": [
       "(743, 12)"
      ]
     },
     "execution_count": 5,
     "metadata": {},
     "output_type": "execute_result"
    }
   ],
   "source": [
    "# Drop nan values in selected columns\n",
    "df = df.dropna(subset=[\"PropertyName\"])\n",
    "df.shape"
   ]
  },
  {
   "cell_type": "code",
   "execution_count": 6,
   "id": "3f894204",
   "metadata": {},
   "outputs": [],
   "source": [
    "#df.groupby(by=\"Status\").PropertyName.value_counts().to_csv(\"spray_shower.csv\")"
   ]
  },
  {
   "cell_type": "code",
   "execution_count": 10,
   "id": "3a586e62",
   "metadata": {},
   "outputs": [
    {
     "data": {
      "text/plain": [
       "Activated             697\n",
       "Under Construction     27\n",
       "Broken                 18\n",
       "Not Yet Activated       1\n",
       "Name: Status, dtype: int64"
      ]
     },
     "execution_count": 10,
     "metadata": {},
     "output_type": "execute_result"
    }
   ],
   "source": [
    "# Make sure there is no NaN value in Stats column!\n",
    "df.Status.value_counts(dropna=False)"
   ]
  }
 ],
 "metadata": {
  "kernelspec": {
   "display_name": "Python 3 (ipykernel)",
   "language": "python",
   "name": "python3"
  },
  "language_info": {
   "codemirror_mode": {
    "name": "ipython",
    "version": 3
   },
   "file_extension": ".py",
   "mimetype": "text/x-python",
   "name": "python",
   "nbconvert_exporter": "python",
   "pygments_lexer": "ipython3",
   "version": "3.10.3"
  }
 },
 "nbformat": 4,
 "nbformat_minor": 5
}
