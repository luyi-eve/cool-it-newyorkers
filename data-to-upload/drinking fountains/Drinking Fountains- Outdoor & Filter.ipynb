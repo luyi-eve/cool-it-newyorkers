{
 "cells": [
  {
   "cell_type": "code",
   "execution_count": 7,
   "id": "a0ff9232",
   "metadata": {},
   "outputs": [
    {
     "data": {
      "text/html": [
       "<div>\n",
       "<style scoped>\n",
       "    .dataframe tbody tr th:only-of-type {\n",
       "        vertical-align: middle;\n",
       "    }\n",
       "\n",
       "    .dataframe tbody tr th {\n",
       "        vertical-align: top;\n",
       "    }\n",
       "\n",
       "    .dataframe thead th {\n",
       "        text-align: right;\n",
       "    }\n",
       "</style>\n",
       "<table border=\"1\" class=\"dataframe\">\n",
       "  <thead>\n",
       "    <tr style=\"text-align: right;\">\n",
       "      <th></th>\n",
       "      <th>Unnamed: 0</th>\n",
       "      <th>PropertyName</th>\n",
       "      <th>ZIPCode</th>\n",
       "      <th>Filter_Installed</th>\n",
       "      <th>Outdoor</th>\n",
       "    </tr>\n",
       "  </thead>\n",
       "  <tbody>\n",
       "    <tr>\n",
       "      <th>0</th>\n",
       "      <td>0</td>\n",
       "      <td>American Playground</td>\n",
       "      <td>11222.0</td>\n",
       "      <td>False</td>\n",
       "      <td>True</td>\n",
       "    </tr>\n",
       "    <tr>\n",
       "      <th>1</th>\n",
       "      <td>1</td>\n",
       "      <td>Amersfort Park</td>\n",
       "      <td>11210.0</td>\n",
       "      <td>False</td>\n",
       "      <td>True</td>\n",
       "    </tr>\n",
       "    <tr>\n",
       "      <th>2</th>\n",
       "      <td>2</td>\n",
       "      <td>Amersfort Park</td>\n",
       "      <td>11210.0</td>\n",
       "      <td>False</td>\n",
       "      <td>True</td>\n",
       "    </tr>\n",
       "    <tr>\n",
       "      <th>3</th>\n",
       "      <td>3</td>\n",
       "      <td>Bensonhurst Park</td>\n",
       "      <td>11214.0</td>\n",
       "      <td>False</td>\n",
       "      <td>True</td>\n",
       "    </tr>\n",
       "    <tr>\n",
       "      <th>4</th>\n",
       "      <td>4</td>\n",
       "      <td>Bensonhurst Park</td>\n",
       "      <td>11214.0</td>\n",
       "      <td>True</td>\n",
       "      <td>True</td>\n",
       "    </tr>\n",
       "    <tr>\n",
       "      <th>...</th>\n",
       "      <td>...</td>\n",
       "      <td>...</td>\n",
       "      <td>...</td>\n",
       "      <td>...</td>\n",
       "      <td>...</td>\n",
       "    </tr>\n",
       "    <tr>\n",
       "      <th>3810</th>\n",
       "      <td>3859</td>\n",
       "      <td>Garrison Playground</td>\n",
       "      <td>10451.0</td>\n",
       "      <td>False</td>\n",
       "      <td>True</td>\n",
       "    </tr>\n",
       "    <tr>\n",
       "      <th>3811</th>\n",
       "      <td>3860</td>\n",
       "      <td>Grant Park</td>\n",
       "      <td>10456.0</td>\n",
       "      <td>False</td>\n",
       "      <td>True</td>\n",
       "    </tr>\n",
       "    <tr>\n",
       "      <th>3812</th>\n",
       "      <td>3861</td>\n",
       "      <td>Pelham Bay Park</td>\n",
       "      <td>10464.0</td>\n",
       "      <td>False</td>\n",
       "      <td>True</td>\n",
       "    </tr>\n",
       "    <tr>\n",
       "      <th>3813</th>\n",
       "      <td>3862</td>\n",
       "      <td>Pelham Bay Park</td>\n",
       "      <td>10464.0</td>\n",
       "      <td>False</td>\n",
       "      <td>True</td>\n",
       "    </tr>\n",
       "    <tr>\n",
       "      <th>3814</th>\n",
       "      <td>3868</td>\n",
       "      <td>Van Cortlandt Park</td>\n",
       "      <td>10471.0</td>\n",
       "      <td>False</td>\n",
       "      <td>True</td>\n",
       "    </tr>\n",
       "  </tbody>\n",
       "</table>\n",
       "<p>3815 rows × 5 columns</p>\n",
       "</div>"
      ],
      "text/plain": [
       "      Unnamed: 0         PropertyName  ZIPCode  Filter_Installed  Outdoor\n",
       "0              0  American Playground  11222.0             False     True\n",
       "1              1       Amersfort Park  11210.0             False     True\n",
       "2              2       Amersfort Park  11210.0             False     True\n",
       "3              3     Bensonhurst Park  11214.0             False     True\n",
       "4              4     Bensonhurst Park  11214.0              True     True\n",
       "...          ...                  ...      ...               ...      ...\n",
       "3810        3859  Garrison Playground  10451.0             False     True\n",
       "3811        3860           Grant Park  10456.0             False     True\n",
       "3812        3861      Pelham Bay Park  10464.0             False     True\n",
       "3813        3862      Pelham Bay Park  10464.0             False     True\n",
       "3814        3868   Van Cortlandt Park  10471.0             False     True\n",
       "\n",
       "[3815 rows x 5 columns]"
      ]
     },
     "execution_count": 7,
     "metadata": {},
     "output_type": "execute_result"
    }
   ],
   "source": [
    "import pandas as pd\n",
    "df = pd.read_csv(\"drinking fountains_outdoor&filter.csv\")\n",
    "df"
   ]
  },
  {
   "cell_type": "code",
   "execution_count": 8,
   "id": "0359f479",
   "metadata": {},
   "outputs": [
    {
     "data": {
      "text/plain": [
       "Unnamed: 0            int64\n",
       "PropertyName         object\n",
       "ZIPCode             float64\n",
       "Filter_Installed       bool\n",
       "Outdoor                bool\n",
       "dtype: object"
      ]
     },
     "execution_count": 8,
     "metadata": {},
     "output_type": "execute_result"
    }
   ],
   "source": [
    "df.dtypes"
   ]
  },
  {
   "cell_type": "code",
   "execution_count": 9,
   "id": "1e48fd93",
   "metadata": {},
   "outputs": [
    {
     "data": {
      "text/plain": [
       "Unnamed: 0            int64\n",
       "PropertyName         object\n",
       "ZIPCode             float64\n",
       "Filter_Installed       bool\n",
       "Outdoor              object\n",
       "dtype: object"
      ]
     },
     "execution_count": 9,
     "metadata": {},
     "output_type": "execute_result"
    }
   ],
   "source": [
    "df.Outdoor = df.Outdoor.astype(str)\n",
    "df.dtypes"
   ]
  },
  {
   "cell_type": "code",
   "execution_count": 10,
   "id": "ddb80744",
   "metadata": {},
   "outputs": [],
   "source": [
    "df[\"Outdoor_or_not\"]= df.Outdoor.str.replace(\"True\",\"outdoor\")\n",
    "df.Outdoor_or_not = df.Outdoor_or_not.str.replace(\"False\",\"indoor\")"
   ]
  },
  {
   "cell_type": "code",
   "execution_count": 11,
   "id": "3e05dd8e",
   "metadata": {},
   "outputs": [
    {
     "data": {
      "text/plain": [
       "Unnamed: 0            int64\n",
       "PropertyName         object\n",
       "ZIPCode             float64\n",
       "Filter_Installed     object\n",
       "Outdoor              object\n",
       "Outdoor_or_not       object\n",
       "dtype: object"
      ]
     },
     "execution_count": 11,
     "metadata": {},
     "output_type": "execute_result"
    }
   ],
   "source": [
    "df.Filter_Installed = df.Filter_Installed.astype(str)\n",
    "df.dtypes"
   ]
  },
  {
   "cell_type": "code",
   "execution_count": 12,
   "id": "797a4dc6",
   "metadata": {},
   "outputs": [],
   "source": [
    "df[\"filter_or_not\"] = df.Filter_Installed.str.replace(\"True\",\"installed\")\n",
    "df.filter_or_not = df.filter_or_not.str.replace(\"False\",\"not installed\")"
   ]
  },
  {
   "cell_type": "code",
   "execution_count": 60,
   "id": "a66cbe03",
   "metadata": {},
   "outputs": [],
   "source": [
    "#df.groupby(by=\"Outdoor_or_not\").filter_or_not.value_counts().to_csv(\"correlation_outdoor&filter.csv\")"
   ]
  },
  {
   "cell_type": "markdown",
   "id": "9aef922c",
   "metadata": {},
   "source": [
    "# Where are the filtered drinking fountains?"
   ]
  },
  {
   "cell_type": "code",
   "execution_count": 15,
   "id": "7714a829",
   "metadata": {},
   "outputs": [],
   "source": [
    "df[df.filter_or_not == \"installed\"]\n",
    "df[df.filter_or_not == \"installed\"].to_csv(\"filtered_map.csv\")"
   ]
  },
  {
   "cell_type": "markdown",
   "id": "2fa9966e",
   "metadata": {},
   "source": [
    "# Sort the filtered data by outdoor & indoor"
   ]
  },
  {
   "cell_type": "code",
   "execution_count": 28,
   "id": "2ed67cc3",
   "metadata": {},
   "outputs": [
    {
     "data": {
      "text/html": [
       "<div>\n",
       "<style scoped>\n",
       "    .dataframe tbody tr th:only-of-type {\n",
       "        vertical-align: middle;\n",
       "    }\n",
       "\n",
       "    .dataframe tbody tr th {\n",
       "        vertical-align: top;\n",
       "    }\n",
       "\n",
       "    .dataframe thead th {\n",
       "        text-align: right;\n",
       "    }\n",
       "</style>\n",
       "<table border=\"1\" class=\"dataframe\">\n",
       "  <thead>\n",
       "    <tr style=\"text-align: right;\">\n",
       "      <th></th>\n",
       "      <th>PropertyName</th>\n",
       "      <th>Outdoor_or_not</th>\n",
       "      <th>filter_or_not</th>\n",
       "    </tr>\n",
       "  </thead>\n",
       "  <tbody>\n",
       "    <tr>\n",
       "      <th>0</th>\n",
       "      <td>Bensonhurst Park</td>\n",
       "      <td>outdoor</td>\n",
       "      <td>installed</td>\n",
       "    </tr>\n",
       "    <tr>\n",
       "      <th>1</th>\n",
       "      <td>Bensonhurst Park</td>\n",
       "      <td>outdoor</td>\n",
       "      <td>installed</td>\n",
       "    </tr>\n",
       "    <tr>\n",
       "      <th>2</th>\n",
       "      <td>Bensonhurst Park</td>\n",
       "      <td>outdoor</td>\n",
       "      <td>installed</td>\n",
       "    </tr>\n",
       "    <tr>\n",
       "      <th>3</th>\n",
       "      <td>Betsy Head Park</td>\n",
       "      <td>outdoor</td>\n",
       "      <td>installed</td>\n",
       "    </tr>\n",
       "    <tr>\n",
       "      <th>4</th>\n",
       "      <td>Brower Park</td>\n",
       "      <td>outdoor</td>\n",
       "      <td>installed</td>\n",
       "    </tr>\n",
       "    <tr>\n",
       "      <th>...</th>\n",
       "      <td>...</td>\n",
       "      <td>...</td>\n",
       "      <td>...</td>\n",
       "    </tr>\n",
       "    <tr>\n",
       "      <th>347</th>\n",
       "      <td>Rev Lena Irons Unity Park</td>\n",
       "      <td>outdoor</td>\n",
       "      <td>installed</td>\n",
       "    </tr>\n",
       "    <tr>\n",
       "      <th>348</th>\n",
       "      <td>Half-Nelson Playground</td>\n",
       "      <td>outdoor</td>\n",
       "      <td>installed</td>\n",
       "    </tr>\n",
       "    <tr>\n",
       "      <th>349</th>\n",
       "      <td>Barretto Point Park</td>\n",
       "      <td>indoor</td>\n",
       "      <td>installed</td>\n",
       "    </tr>\n",
       "    <tr>\n",
       "      <th>350</th>\n",
       "      <td>Mohegan Triangle</td>\n",
       "      <td>outdoor</td>\n",
       "      <td>installed</td>\n",
       "    </tr>\n",
       "    <tr>\n",
       "      <th>351</th>\n",
       "      <td>River Avenue Parks</td>\n",
       "      <td>outdoor</td>\n",
       "      <td>installed</td>\n",
       "    </tr>\n",
       "  </tbody>\n",
       "</table>\n",
       "<p>352 rows × 3 columns</p>\n",
       "</div>"
      ],
      "text/plain": [
       "                  PropertyName Outdoor_or_not filter_or_not\n",
       "0             Bensonhurst Park        outdoor     installed\n",
       "1             Bensonhurst Park        outdoor     installed\n",
       "2             Bensonhurst Park        outdoor     installed\n",
       "3              Betsy Head Park        outdoor     installed\n",
       "4                  Brower Park        outdoor     installed\n",
       "..                         ...            ...           ...\n",
       "347  Rev Lena Irons Unity Park        outdoor     installed\n",
       "348     Half-Nelson Playground        outdoor     installed\n",
       "349        Barretto Point Park         indoor     installed\n",
       "350           Mohegan Triangle        outdoor     installed\n",
       "351         River Avenue Parks        outdoor     installed\n",
       "\n",
       "[352 rows x 3 columns]"
      ]
     },
     "execution_count": 28,
     "metadata": {},
     "output_type": "execute_result"
    }
   ],
   "source": [
    "import pandas as pd\n",
    "df = pd.read_csv(\"filtered_map.csv\")\n",
    "df"
   ]
  },
  {
   "cell_type": "code",
   "execution_count": 39,
   "id": "f40c5164",
   "metadata": {},
   "outputs": [],
   "source": [
    "df_sorted = df.sort_values(by=\"Outdoor_or_not\")\n",
    "#df.groupby(by=\"Outdoor_or_not\").PropertyName.value_counts().to_csv(\"sorted_filtered_map.csv\")"
   ]
  }
 ],
 "metadata": {
  "kernelspec": {
   "display_name": "Python 3 (ipykernel)",
   "language": "python",
   "name": "python3"
  },
  "language_info": {
   "codemirror_mode": {
    "name": "ipython",
    "version": 3
   },
   "file_extension": ".py",
   "mimetype": "text/x-python",
   "name": "python",
   "nbconvert_exporter": "python",
   "pygments_lexer": "ipython3",
   "version": "3.10.3"
  }
 },
 "nbformat": 4,
 "nbformat_minor": 5
}
